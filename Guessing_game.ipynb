{
  "nbformat": 4,
  "nbformat_minor": 0,
  "metadata": {
    "colab": {
      "name": "Guessing game.ipynb",
      "provenance": [],
      "collapsed_sections": [],
      "authorship_tag": "ABX9TyOi2krO1gIw6aCc4i+LEwGP",
      "include_colab_link": true
    },
    "kernelspec": {
      "name": "python3",
      "display_name": "Python 3"
    },
    "language_info": {
      "name": "python"
    }
  },
  "cells": [
    {
      "cell_type": "markdown",
      "metadata": {
        "id": "view-in-github",
        "colab_type": "text"
      },
      "source": [
        "<a href=\"https://colab.research.google.com/github/eduvergara/python_bootcamp/blob/main/Guessing_game.ipynb\" target=\"_parent\"><img src=\"https://colab.research.google.com/assets/colab-badge.svg\" alt=\"Open In Colab\"/></a>"
      ]
    },
    {
      "cell_type": "markdown",
      "source": [
        "# Guessing game"
      ],
      "metadata": {
        "id": "ubEify32_c81"
      }
    },
    {
      "cell_type": "code",
      "execution_count": null,
      "metadata": {
        "colab": {
          "base_uri": "https://localhost:8080/"
        },
        "id": "2DIfBkmV_byj",
        "outputId": "e818411f-9a47-49b7-ca87-6529e8072be7"
      },
      "outputs": [
        {
          "output_type": "stream",
          "name": "stdout",
          "text": [
            "Guess a number between 0 and 100.\n",
            "50\n",
            "Guess higher\n",
            "75\n",
            "Guess higher\n",
            "88\n",
            "Guess lower\n",
            "80\n",
            "You win!\n"
          ]
        }
      ],
      "source": [
        "from random import randint\n",
        "low = 0\n",
        "high = 100\n",
        "correct = randint(low,high)\n",
        "print (f'Guess a number between {low} and {high}.')\n",
        "while True:\n",
        "  guess = int (input())\n",
        "\n",
        "  if guess < correct:\n",
        "    print ('Guess higher')\n",
        "  elif guess > correct:\n",
        "    print ('Guess lower')\n",
        "  else:\n",
        "    print ('You win!')\n",
        "    break"
      ]
    }
  ]
}