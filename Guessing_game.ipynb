{
 "cells": [
  {
   "cell_type": "markdown",
   "metadata": {
    "colab_type": "text",
    "id": "view-in-github"
   },
   "source": [
    "<a href=\"https://colab.research.google.com/github/eduvergara/python_bootcamp/blob/main/Guessing_game.ipynb\" target=\"_parent\"><img src=\"https://colab.research.google.com/assets/colab-badge.svg\" alt=\"Open In Colab\"/></a>"
   ]
  },
  {
   "cell_type": "markdown",
   "metadata": {
    "id": "ubEify32_c81"
   },
   "source": [
    "# Guessing game"
   ]
  },
  {
   "cell_type": "code",
   "execution_count": null,
   "metadata": {
    "colab": {
     "base_uri": "https://localhost:8080/"
    },
    "id": "2DIfBkmV_byj",
    "outputId": "e818411f-9a47-49b7-ca87-6529e8072be7"
   },
   "outputs": [
    {
     "name": "stdout",
     "output_type": "stream",
     "text": [
      "Guess a number between 0 and 100.\n",
      "50\n",
      "Guess higher\n",
      "75\n",
      "Guess higher\n",
      "88\n",
      "Guess lower\n",
      "80\n",
      "You win!\n"
     ]
    }
   ],
   "source": [
    "from random import randint\n",
    "low = 0\n",
    "high = 100\n",
    "correct = randint(low,high)\n",
    "print (f'Guess a number between {low} and {high}.')\n",
    "while True:\n",
    "  guess = int (input())\n",
    "\n",
    "  if guess < correct:\n",
    "    print ('Guess higher')\n",
    "  elif guess > correct:\n",
    "    print ('Guess lower')\n",
    "  else:\n",
    "    print ('You win!!!')\n",
    "    break"
   ]
  }
 ],
 "metadata": {
  "colab": {
   "authorship_tag": "ABX9TyOi2krO1gIw6aCc4i+LEwGP",
   "collapsed_sections": [],
   "include_colab_link": true,
   "name": "Guessing game.ipynb",
   "provenance": []
  },
  "kernelspec": {
   "display_name": "Python 3 (ipykernel)",
   "language": "python",
   "name": "python3"
  },
  "language_info": {
   "codemirror_mode": {
    "name": "ipython",
    "version": 3
   },
   "file_extension": ".py",
   "mimetype": "text/x-python",
   "name": "python",
   "nbconvert_exporter": "python",
   "pygments_lexer": "ipython3",
   "version": "3.10.1"
  }
 },
 "nbformat": 4,
 "nbformat_minor": 4
}
